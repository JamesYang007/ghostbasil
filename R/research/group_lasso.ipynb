{
 "cells": [
  {
   "cell_type": "code",
   "execution_count": 1,
   "metadata": {
    "vscode": {
     "languageId": "r"
    }
   },
   "outputs": [
    {
     "name": "stderr",
     "output_type": "stream",
     "text": [
      "Loading required package: usethis\n",
      "\n",
      "\u001b[36mℹ\u001b[39m Loading \u001b[34m\u001b[34mghostbasil\u001b[34m\u001b[39m\n",
      "\n",
      "Loading required package: Matrix\n",
      "\n"
     ]
    }
   ],
   "source": [
    "library(devtools)\n",
    "load_all()"
   ]
  },
  {
   "cell_type": "code",
   "execution_count": 2,
   "metadata": {
    "vscode": {
     "languageId": "r"
    }
   },
   "outputs": [],
   "source": [
    "n = 200\n",
    "p = 2000\n",
    "X = matrix(rnorm(n * p), n, p)\n",
    "C = t(X) %*% X\n",
    "beta = rnorm(p)\n",
    "y = X %*% beta + rnorm(n)\n",
    "y = t(X) %*% y"
   ]
  },
  {
   "cell_type": "code",
   "execution_count": 15,
   "metadata": {
    "vscode": {
     "languageId": "r"
    }
   },
   "outputs": [
    {
     "name": "stdout",
     "output_type": "stream",
     "text": [
      "[1] 0.0002909404\n"
     ]
    }
   ],
   "source": [
    "lmda = 0.1\n",
    "step_size = 1 / max(eigen(C, T, T)$values) \n",
    "print(step_size)\n",
    "x = rep(0, p)"
   ]
  },
  {
   "cell_type": "code",
   "execution_count": 23,
   "metadata": {
    "vscode": {
     "languageId": "r"
    }
   },
   "outputs": [],
   "source": [
    "out <- solve_sub_coeffs__(C, y, lmda, step_size2, x, max_iters=1000, 1e-12)"
   ]
  },
  {
   "cell_type": "code",
   "execution_count": 24,
   "metadata": {
    "vscode": {
     "languageId": "r"
    }
   },
   "outputs": [
    {
     "name": "stdout",
     "output_type": "stream",
     "text": [
      "numeric(0)\n",
      "[1] 75\n",
      "[1] 1.145937e-07\n"
     ]
    }
   ],
   "source": [
    "print(out$beta[is.nan(out$beta)])\n",
    "print(out$iters)\n",
    "beta <- out$beta\n",
    "nrm <- sqrt(sum(beta**2))\n",
    "expected <- solve(C + lmda / nrm * diag(1, p, p), y)\n",
    "print(sqrt(sum((expected-beta)**2)))"
   ]
  },
  {
   "cell_type": "code",
   "execution_count": null,
   "metadata": {
    "vscode": {
     "languageId": "r"
    }
   },
   "outputs": [],
   "source": []
  }
 ],
 "metadata": {
  "kernelspec": {
   "display_name": "R",
   "language": "R",
   "name": "ir"
  },
  "language_info": {
   "codemirror_mode": "r",
   "file_extension": ".r",
   "mimetype": "text/x-r-source",
   "name": "R",
   "pygments_lexer": "r",
   "version": "4.1.2"
  },
  "orig_nbformat": 4
 },
 "nbformat": 4,
 "nbformat_minor": 2
}
