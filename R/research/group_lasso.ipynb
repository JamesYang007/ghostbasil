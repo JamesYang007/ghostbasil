{
 "cells": [
  {
   "cell_type": "code",
   "execution_count": 7,
   "metadata": {
    "vscode": {
     "languageId": "r"
    }
   },
   "outputs": [
    {
     "name": "stderr",
     "output_type": "stream",
     "text": [
      "\u001b[1m\u001b[22m\u001b[36mℹ\u001b[39m Loading \u001b[34mghostbasil\u001b[39m\n"
     ]
    }
   ],
   "source": [
    "library(devtools)\n",
    "load_all()"
   ]
  },
  {
   "cell_type": "code",
   "execution_count": 8,
   "metadata": {
    "vscode": {
     "languageId": "r"
    }
   },
   "outputs": [],
   "source": [
    "generate.data <- function(n, p)\n",
    "{\n",
    "    X <- matrix(rnorm(n * p), n, p)\n",
    "    X <- scale(X) / sqrt(n-1)\n",
    "    C <- t(X) %*% X\n",
    "    beta <- rnorm(p)\n",
    "    y <- X %*% beta + rnorm(n)\n",
    "    y <- t(X) %*% y\n",
    "    list(C=C, y=y)\n",
    "}"
   ]
  },
  {
   "cell_type": "code",
   "execution_count": 9,
   "metadata": {
    "vscode": {
     "languageId": "r"
    }
   },
   "outputs": [
    {
     "name": "stdout",
     "output_type": "stream",
     "text": [
      "[1] 0.2255509\n"
     ]
    }
   ],
   "source": [
    "set.seed(123)\n",
    "n <- 800\n",
    "p <- 1000\n",
    "data <- generate.data(n, p)\n",
    "C <- data$C\n",
    "y <- data$y\n",
    "lmda = 0.1\n",
    "C.eig <- eigen(C, T)\n",
    "Q = C.eig$vectors\n",
    "L = C.eig$values\n",
    "step_size = 1 / max(L)\n",
    "print(step_size)\n",
    "x = rep(0, p)"
   ]
  },
  {
   "cell_type": "code",
   "execution_count": 10,
   "metadata": {
    "vscode": {
     "languageId": "r"
    }
   },
   "outputs": [
    {
     "name": "stdout",
     "output_type": "stream",
     "text": [
      "[1] 6\n"
     ]
    }
   ],
   "source": [
    "v <- t(Q) %*% y\n",
    "out2 <- update_group_coeffs__(L, v, lmda, 0, max_iters=1000)\n",
    "print(out2$iters)"
   ]
  },
  {
   "cell_type": "code",
   "execution_count": 11,
   "metadata": {
    "vscode": {
     "languageId": "r"
    }
   },
   "outputs": [
    {
     "name": "stdout",
     "output_type": "stream",
     "text": [
      "[1] 9.595524e-11\n"
     ]
    }
   ],
   "source": [
    "beta <- as.numeric(Q %*% out2$beta)\n",
    "nrm <- sqrt(sum(beta ** 2))\n",
    "expected <- solve(C + lmda / nrm * diag(1, p, p), y)\n",
    "print(sqrt(mean((expected-beta)**2)))"
   ]
  },
  {
   "cell_type": "markdown",
   "metadata": {},
   "source": [
    "## How does PCD behave with warm-start?"
   ]
  },
  {
   "cell_type": "code",
   "execution_count": 169,
   "metadata": {
    "vscode": {
     "languageId": "r"
    }
   },
   "outputs": [],
   "source": [
    "data <- generate.data(900, 1000)\n",
    "C <- data$C\n",
    "y <- data$y\n",
    "lmda.max <- max(y)\n",
    "lmdas <- lmda.max * 1.5 ** (-(1:20))\n",
    "step_size <- 1 / max(eigen(C, T, T)$values)"
   ]
  },
  {
   "cell_type": "code",
   "execution_count": 170,
   "metadata": {
    "vscode": {
     "languageId": "r"
    }
   },
   "outputs": [
    {
     "name": "stdout",
     "output_type": "stream",
     "text": [
      "Time difference of 0.009838581 secs\n",
      "Time difference of 0.009563684 secs\n",
      "Time difference of 0.01212811 secs\n",
      "Time difference of 0.01510978 secs\n",
      "Time difference of 0.01839399 secs\n"
     ]
    }
   ],
   "source": [
    "x <- rep(0, length(y))\n",
    "for (lmda in lmdas[1:5]) {\n",
    "    start <- Sys.time()\n",
    "    out.tmp <- solve_sub_coeffs__(C, y, lmda, step_size, x, max_iters=10000, 1e-12)\n",
    "    end <- Sys.time()\n",
    "    print(end-start)\n",
    "    x <- out.tmp$beta\n",
    "}"
   ]
  },
  {
   "cell_type": "code",
   "execution_count": 176,
   "metadata": {
    "vscode": {
     "languageId": "r"
    }
   },
   "outputs": [],
   "source": [
    "a = 1\n",
    "b = 2\n",
    "c = 0.01\n",
    "d = 0.31\n",
    "e = -1\n",
    "x_roots <- solve_quartic__(a, b, c, d, e)"
   ]
  },
  {
   "cell_type": "code",
   "execution_count": 209,
   "metadata": {
    "vscode": {
     "languageId": "r"
    }
   },
   "outputs": [
    {
     "name": "stdout",
     "output_type": "stream",
     "text": [
      "[1] 167\n",
      "[1] -2.220446e-16\n"
     ]
    },
    {
     "data": {
      "image/png": "[encoded data removed]",
      "text/plain": [
       "plot without title"
      ]
     },
     "metadata": {
      "image/png": {
       "height": 420,
       "width": 420
      }
     },
     "output_type": "display_data"
    }
   ],
   "source": [
    "xs <- seq(-1, 1, 0.01)\n",
    "quartic <- function(a,b,c,d,e,xs) {a * xs^4 + b * xs^3 + c * xs^2 + d * xs + e}\n",
    "ys <- quartic(a,b,c,d,e,xs)\n",
    "print(sum(ys < 0))\n",
    "print(quartic(a,b,c,d,e,x_roots[2]))\n",
    "plot(xs, ys)\n",
    "abline(h=0)"
   ]
  },
  {
   "cell_type": "code",
   "execution_count": 210,
   "metadata": {
    "vscode": {
     "languageId": "r"
    }
   },
   "outputs": [],
   "source": [
    "sub_coord_desc <- function(a, b, c, d, x)\n",
    "{\n",
    "    x * (a + b / sqrt(x*x + c)) - d\n",
    "}"
   ]
  },
  {
   "cell_type": "code",
   "execution_count": 254,
   "metadata": {
    "vscode": {
     "languageId": "r"
    }
   },
   "outputs": [
    {
     "name": "stdout",
     "output_type": "stream",
     "text": [
      "[1] NaN\n"
     ]
    },
    {
     "data": {
      "text/html": [
       "NaN"
      ],
      "text/latex": [
       "NaN"
      ],
      "text/markdown": [
       "NaN"
      ],
      "text/plain": [
       "[1] NaN"
      ]
     },
     "metadata": {},
     "output_type": "display_data"
    }
   ],
   "source": [
    "a1 <- 1\n",
    "b1 <- 0.1\n",
    "c1 <- 8627.125123855891\n",
    "d1 <- 0.1461198318242248\n",
    "h <- solve_sub_coord_desc__(a1, b1, c1, d1)\n",
    "print(h)\n",
    "sub_coord_desc(a1, b1, c1, d1, h)"
   ]
  }
 ],
 "metadata": {
  "kernelspec": {
   "display_name": "R",
   "language": "R",
   "name": "ir"
  },
  "language_info": {
   "codemirror_mode": "r",
   "file_extension": ".r",
   "mimetype": "text/x-r-source",
   "name": "R",
   "pygments_lexer": "r",
   "version": "4.2.1"
  },
  "orig_nbformat": 4
 },
 "nbformat": 4,
 "nbformat_minor": 2
}
